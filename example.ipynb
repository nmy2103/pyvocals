{
 "cells": [
  {
   "cell_type": "code",
   "execution_count": 1,
   "id": "5018c06c-1e00-4c91-967b-1ab9335a0b85",
   "metadata": {},
   "outputs": [],
   "source": [
    "import pandas as pd\n",
    "import numpy as np\n",
    "import pyvocals\n",
    "from os import listdir, path\n",
    "from warnings import filterwarnings\n",
    "filterwarnings('ignore')"
   ]
  },
  {
   "cell_type": "markdown",
   "id": "f2e253ac-b523-4451-9315-eef93f0ee22c",
   "metadata": {},
   "source": [
    "**Get Dyadic Play start time.**"
   ]
  },
  {
   "cell_type": "code",
   "execution_count": 2,
   "id": "f338d761-d796-4b50-bc7f-73d35a950014",
   "metadata": {
    "tags": []
   },
   "outputs": [],
   "source": [
    "conditions = pd.read_csv('./data/1663_Conditions.csv')\n",
    "conditions[['Start', 'End']] = conditions[['Start', 'End']].apply(lambda t: pd.to_datetime(t))\n",
    "start_time = conditions.loc[conditions.Condition == 'Dyadic Play', 'Start'].item()"
   ]
  },
  {
   "cell_type": "markdown",
   "id": "bf672299-7ddc-4627-9b86-e041b4dbb6ef",
   "metadata": {},
   "source": [
    "**Pre-process audio data.**"
   ]
  },
  {
   "cell_type": "code",
   "execution_count": 3,
   "id": "ac6f646e-de54-4c06-9690-314788108da9",
   "metadata": {
    "tags": []
   },
   "outputs": [
    {
     "name": "stdout",
     "output_type": "stream",
     "text": [
      "dict_keys(['C', 'P'])\n"
     ]
    }
   ],
   "source": [
    "files = sorted([f for f in listdir('data') if f.endswith('mp3') and not f.startswith('.')])\n",
    "audio_data = {}\n",
    "for f in files:\n",
    "    fname = f.split('.')[0]\n",
    "    person = f.split('_')[-1].split('.')[0]\n",
    "    signal = pyvocals.preprocess_audio(f'./data/{f}', start_time = start_time, target_fs = 4)\n",
    "    signal.to_csv(f'./data/{fname}.csv')\n",
    "    audio_data[person] = signal\n",
    "    \n",
    "print(audio_data.keys())"
   ]
  },
  {
   "cell_type": "markdown",
   "id": "00b8cdf1-f48e-4d5c-8701-c4f7633fa839",
   "metadata": {},
   "source": [
    "**Get each person's time series of vocal states.**"
   ]
  },
  {
   "cell_type": "code",
   "execution_count": 4,
   "id": "78f1c264-d06e-4c42-bd85-94e154eb0719",
   "metadata": {
    "tags": []
   },
   "outputs": [],
   "source": [
    "child = audio_data['C'].copy()\n",
    "child.name = 'Child'\n",
    "parent = audio_data['P'].copy()\n",
    "parent.name = 'Parent'\n",
    "\n",
    "child_arr = np.array(child).flatten()\n",
    "parent_arr = np.array(parent).flatten()\n",
    "\n",
    "dyad = pyvocals.get_vocal_states(child_arr, parent_arr, start_time = start_time, fs = 4)"
   ]
  },
  {
   "cell_type": "markdown",
   "id": "b69210fc-0d7e-4185-9d5a-777b79dd9508",
   "metadata": {},
   "source": [
    "**Label vocal turns in each person's time series.**"
   ]
  },
  {
   "cell_type": "code",
   "execution_count": 5,
   "id": "0336e305-801f-43d9-ab63-bcd18e57ae67",
   "metadata": {
    "tags": []
   },
   "outputs": [
    {
     "data": {
      "text/html": [
       "<div>\n",
       "<style scoped>\n",
       "    .dataframe tbody tr th:only-of-type {\n",
       "        vertical-align: middle;\n",
       "    }\n",
       "\n",
       "    .dataframe tbody tr th {\n",
       "        vertical-align: top;\n",
       "    }\n",
       "\n",
       "    .dataframe thead th {\n",
       "        text-align: right;\n",
       "    }\n",
       "</style>\n",
       "<table border=\"1\" class=\"dataframe\">\n",
       "  <thead>\n",
       "    <tr style=\"text-align: right;\">\n",
       "      <th></th>\n",
       "      <th>Timestamp</th>\n",
       "      <th>Child</th>\n",
       "      <th>Parent</th>\n",
       "      <th>Child Turn</th>\n",
       "      <th>Parent Turn</th>\n",
       "    </tr>\n",
       "  </thead>\n",
       "  <tbody>\n",
       "    <tr>\n",
       "      <th>0</th>\n",
       "      <td>2016-10-14 11:07:07.000</td>\n",
       "      <td>0</td>\n",
       "      <td>0</td>\n",
       "      <td>NaN</td>\n",
       "      <td>NaN</td>\n",
       "    </tr>\n",
       "    <tr>\n",
       "      <th>1</th>\n",
       "      <td>2016-10-14 11:07:07.250</td>\n",
       "      <td>0</td>\n",
       "      <td>0</td>\n",
       "      <td>NaN</td>\n",
       "      <td>NaN</td>\n",
       "    </tr>\n",
       "    <tr>\n",
       "      <th>2</th>\n",
       "      <td>2016-10-14 11:07:07.500</td>\n",
       "      <td>0</td>\n",
       "      <td>0</td>\n",
       "      <td>NaN</td>\n",
       "      <td>NaN</td>\n",
       "    </tr>\n",
       "    <tr>\n",
       "      <th>3</th>\n",
       "      <td>2016-10-14 11:07:07.750</td>\n",
       "      <td>0</td>\n",
       "      <td>0</td>\n",
       "      <td>NaN</td>\n",
       "      <td>NaN</td>\n",
       "    </tr>\n",
       "    <tr>\n",
       "      <th>4</th>\n",
       "      <td>2016-10-14 11:07:08.000</td>\n",
       "      <td>0</td>\n",
       "      <td>0</td>\n",
       "      <td>NaN</td>\n",
       "      <td>NaN</td>\n",
       "    </tr>\n",
       "    <tr>\n",
       "      <th>5</th>\n",
       "      <td>2016-10-14 11:07:08.250</td>\n",
       "      <td>0</td>\n",
       "      <td>1</td>\n",
       "      <td>NaN</td>\n",
       "      <td>NaN</td>\n",
       "    </tr>\n",
       "    <tr>\n",
       "      <th>6</th>\n",
       "      <td>2016-10-14 11:07:08.500</td>\n",
       "      <td>5</td>\n",
       "      <td>1</td>\n",
       "      <td>NaN</td>\n",
       "      <td>NaN</td>\n",
       "    </tr>\n",
       "    <tr>\n",
       "      <th>7</th>\n",
       "      <td>2016-10-14 11:07:08.750</td>\n",
       "      <td>1</td>\n",
       "      <td>2</td>\n",
       "      <td>1.0</td>\n",
       "      <td>NaN</td>\n",
       "    </tr>\n",
       "    <tr>\n",
       "      <th>8</th>\n",
       "      <td>2016-10-14 11:07:09.000</td>\n",
       "      <td>1</td>\n",
       "      <td>2</td>\n",
       "      <td>1.0</td>\n",
       "      <td>NaN</td>\n",
       "    </tr>\n",
       "    <tr>\n",
       "      <th>9</th>\n",
       "      <td>2016-10-14 11:07:09.250</td>\n",
       "      <td>1</td>\n",
       "      <td>2</td>\n",
       "      <td>1.0</td>\n",
       "      <td>NaN</td>\n",
       "    </tr>\n",
       "  </tbody>\n",
       "</table>\n",
       "</div>"
      ],
      "text/plain": [
       "                Timestamp  Child  Parent  Child Turn  Parent Turn\n",
       "0 2016-10-14 11:07:07.000      0       0         NaN          NaN\n",
       "1 2016-10-14 11:07:07.250      0       0         NaN          NaN\n",
       "2 2016-10-14 11:07:07.500      0       0         NaN          NaN\n",
       "3 2016-10-14 11:07:07.750      0       0         NaN          NaN\n",
       "4 2016-10-14 11:07:08.000      0       0         NaN          NaN\n",
       "5 2016-10-14 11:07:08.250      0       1         NaN          NaN\n",
       "6 2016-10-14 11:07:08.500      5       1         NaN          NaN\n",
       "7 2016-10-14 11:07:08.750      1       2         1.0          NaN\n",
       "8 2016-10-14 11:07:09.000      1       2         1.0          NaN\n",
       "9 2016-10-14 11:07:09.250      1       2         1.0          NaN"
      ]
     },
     "execution_count": 5,
     "metadata": {},
     "output_type": "execute_result"
    }
   ],
   "source": [
    "child_turns, parent_turns = pyvocals.get_vocal_turns(dyad['Child'], dyad['Parent'], fs = 4, max_pause_duration = 3)\n",
    "\n",
    "for (start, end) in child_turns:\n",
    "    dyad.loc[start:end, 'Child Turn'] = 1\n",
    "for (start, end) in parent_turns:\n",
    "    dyad.loc[start:end, 'Parent Turn'] = 1\n",
    "\n",
    "dyad.head(10)"
   ]
  },
  {
   "cell_type": "code",
   "execution_count": 6,
   "id": "ad286aaa-8e69-41b1-baf1-7b999bd1333e",
   "metadata": {
    "tags": []
   },
   "outputs": [],
   "source": [
    "dyad.to_csv('./data/1663_Dyadic_Play_Vocal_States.csv', index = False)"
   ]
  },
  {
   "cell_type": "markdown",
   "id": "d3c7d22f-1ebb-4ff5-98b5-06e7ffd69625",
   "metadata": {},
   "source": [
    "**Visualize the audio signals.**"
   ]
  },
  {
   "cell_type": "code",
   "execution_count": 7,
   "id": "28d12709-41c7-444e-9350-c73de0102298",
   "metadata": {
    "tags": []
   },
   "outputs": [
    {
     "data": {
      "image/png": "[encoded data removed]",
      "text/plain": [
       "<Figure size 960x288 with 2 Axes>"
      ]
     },
     "metadata": {},
     "output_type": "display_data"
    }
   ],
   "source": [
    "fig = pyvocals.plot_vocals(child_arr, parent_arr, fs = 4, seg_num = 1, seg_size = 30, p1_label = 'Child', p2_label = 'Parent')\n",
    "fig.show()"
   ]
  }
 ],
 "metadata": {
  "kernelspec": {
   "display_name": "Python 3 (ipykernel)",
   "language": "python",
   "name": "python3"
  },
  "language_info": {
   "codemirror_mode": {
    "name": "ipython",
    "version": 3
   },
   "file_extension": ".py",
   "mimetype": "text/x-python",
   "name": "python",
   "nbconvert_exporter": "python",
   "pygments_lexer": "ipython3",
   "version": "3.11.4"
  }
 },
 "nbformat": 4,
 "nbformat_minor": 5
}
